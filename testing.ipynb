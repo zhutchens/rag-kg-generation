{
 "cells": [
  {
   "cell_type": "code",
   "execution_count": 1,
   "metadata": {},
   "outputs": [],
   "source": [
    "# import ragas.metrics as m\n",
    "import os\n",
    "from dotenv import load_dotenv\n",
    "import pandas as pd\n",
    "# from langchain_openai import ChatOpenAI, OpenAIEmbeddings\n",
    "# from ragas.llms import LangchainLLMWrapper\n",
    "# from ragas.embeddings import LangchainEmbeddingsWrapper\n",
    "\n",
    "load_dotenv()\n",
    "link = os.getenv('dsa_2214')\n",
    "token = os.getenv('OPENAI_API_KEY')\n",
    "os.environ['OPENAI_API_KEY'] = token\n",
    "\n",
    "chapters = [\n",
    "    'Data Structures and Algorithms',\n",
    "    'Mathematical Preliminaries',\n",
    "    'Algorithm Analysis',\n",
    "    'Lists, Stacks, and Queues',\n",
    "    'Binary Trees',\n",
    "    'Non-Binary Trees',\n",
    "    'Internal Sorting',\n",
    "    'File Processing and External Sorting',\n",
    "    'Searching',\n",
    "    'Indexing',\n",
    "    'Graphs',\n",
    "    'Lists and Arrays Revisited',\n",
    "    'Advanced Tree Structures',\n",
    "    'Analysis Techniques',\n",
    "    'Lower Bounds',\n",
    "    'Patterns of Algorithms',\n",
    "    'Limits to Computation',\n",
    "]"
   ]
  },
  {
   "cell_type": "code",
   "execution_count": 2,
   "metadata": {},
   "outputs": [
    {
     "data": {
      "text/html": [
       "<div>\n",
       "<style scoped>\n",
       "    .dataframe tbody tr th:only-of-type {\n",
       "        vertical-align: middle;\n",
       "    }\n",
       "\n",
       "    .dataframe tbody tr th {\n",
       "        vertical-align: top;\n",
       "    }\n",
       "\n",
       "    .dataframe thead th {\n",
       "        text-align: right;\n",
       "    }\n",
       "</style>\n",
       "<table border=\"1\" class=\"dataframe\">\n",
       "  <thead>\n",
       "    <tr style=\"text-align: right;\">\n",
       "      <th></th>\n",
       "      <th>concept</th>\n",
       "      <th>outcome</th>\n",
       "    </tr>\n",
       "  </thead>\n",
       "  <tbody>\n",
       "    <tr>\n",
       "      <th>0</th>\n",
       "      <td>Data Structures-&gt;Basics-&gt;Algorithm Analysis</td>\n",
       "      <td>Apply time complexity analysis guideline to an...</td>\n",
       "    </tr>\n",
       "    <tr>\n",
       "      <th>1</th>\n",
       "      <td>Data Structures-&gt;Basics-&gt;Algorithm Analysis-&gt;O...</td>\n",
       "      <td>Demonstrate an understanding of big O notation...</td>\n",
       "    </tr>\n",
       "    <tr>\n",
       "      <th>2</th>\n",
       "      <td>Algorithms-&gt;Non-recursive Algorthims</td>\n",
       "      <td>Demonstrate an understanding of non-recursive ...</td>\n",
       "    </tr>\n",
       "    <tr>\n",
       "      <th>3</th>\n",
       "      <td>Algorithms-&gt;Non-recursive Algorithms-&gt;Search</td>\n",
       "      <td>Apply the Comparable interface for object comp...</td>\n",
       "    </tr>\n",
       "    <tr>\n",
       "      <th>4</th>\n",
       "      <td>Algorithms-&gt;Non-recursive Algorithms-&gt;Search-&gt;...</td>\n",
       "      <td>Demonstrate an understanding of linear search;...</td>\n",
       "    </tr>\n",
       "    <tr>\n",
       "      <th>5</th>\n",
       "      <td>Algorithms-&gt;Non-recursive Algorithms-&gt;Search-&gt;...</td>\n",
       "      <td>Demonstrate an understanding of binary search;...</td>\n",
       "    </tr>\n",
       "    <tr>\n",
       "      <th>6</th>\n",
       "      <td>Algorithms-&gt;Non-recursive Algorithms-&gt;Sort</td>\n",
       "      <td>Demonstrate an understanding of sorting;</td>\n",
       "    </tr>\n",
       "    <tr>\n",
       "      <th>7</th>\n",
       "      <td>Algorithms-&gt;Non-recursive Algorithms-&gt;Sort-&gt;In...</td>\n",
       "      <td>Demonstrate an understanding of insertion sort...</td>\n",
       "    </tr>\n",
       "    <tr>\n",
       "      <th>8</th>\n",
       "      <td>Algorithms-&gt;Non-recursive Algorithms-&gt;Sort-&gt;Se...</td>\n",
       "      <td>Demonstrate an understanding of selection sort...</td>\n",
       "    </tr>\n",
       "    <tr>\n",
       "      <th>9</th>\n",
       "      <td>Algorithms-&gt;Non-recursive Algorithms-&gt;Sort-&gt;Bu...</td>\n",
       "      <td>Demonstrate an understanding of bubble sort;An...</td>\n",
       "    </tr>\n",
       "    <tr>\n",
       "      <th>10</th>\n",
       "      <td>Algorithms-&gt;Recursive Algorithms-&gt;Recursive Al...</td>\n",
       "      <td>Demonstrate an understanding of recursion</td>\n",
       "    </tr>\n",
       "    <tr>\n",
       "      <th>11</th>\n",
       "      <td>Algorithms-&gt;Recursive Algorithms-&gt;Recursive Bi...</td>\n",
       "      <td>Demonstrate an understanding of recursive bina...</td>\n",
       "    </tr>\n",
       "    <tr>\n",
       "      <th>12</th>\n",
       "      <td>Algorithms-&gt;Recursive Algorithms-&gt;Recursive So...</td>\n",
       "      <td>Demonstrate an understanding of recursive merg...</td>\n",
       "    </tr>\n",
       "    <tr>\n",
       "      <th>13</th>\n",
       "      <td>Algorithms-&gt;Recursive Algorithms-&gt;Recursive So...</td>\n",
       "      <td>Demonstrate an understanding of recursive quic...</td>\n",
       "    </tr>\n",
       "  </tbody>\n",
       "</table>\n",
       "</div>"
      ],
      "text/plain": [
       "                                              concept  \\\n",
       "0         Data Structures->Basics->Algorithm Analysis   \n",
       "1   Data Structures->Basics->Algorithm Analysis->O...   \n",
       "2                Algorithms->Non-recursive Algorthims   \n",
       "3        Algorithms->Non-recursive Algorithms->Search   \n",
       "4   Algorithms->Non-recursive Algorithms->Search->...   \n",
       "5   Algorithms->Non-recursive Algorithms->Search->...   \n",
       "6          Algorithms->Non-recursive Algorithms->Sort   \n",
       "7   Algorithms->Non-recursive Algorithms->Sort->In...   \n",
       "8   Algorithms->Non-recursive Algorithms->Sort->Se...   \n",
       "9   Algorithms->Non-recursive Algorithms->Sort->Bu...   \n",
       "10  Algorithms->Recursive Algorithms->Recursive Al...   \n",
       "11  Algorithms->Recursive Algorithms->Recursive Bi...   \n",
       "12  Algorithms->Recursive Algorithms->Recursive So...   \n",
       "13  Algorithms->Recursive Algorithms->Recursive So...   \n",
       "\n",
       "                                              outcome  \n",
       "0   Apply time complexity analysis guideline to an...  \n",
       "1   Demonstrate an understanding of big O notation...  \n",
       "2   Demonstrate an understanding of non-recursive ...  \n",
       "3   Apply the Comparable interface for object comp...  \n",
       "4   Demonstrate an understanding of linear search;...  \n",
       "5   Demonstrate an understanding of binary search;...  \n",
       "6            Demonstrate an understanding of sorting;  \n",
       "7   Demonstrate an understanding of insertion sort...  \n",
       "8   Demonstrate an understanding of selection sort...  \n",
       "9   Demonstrate an understanding of bubble sort;An...  \n",
       "10          Demonstrate an understanding of recursion  \n",
       "11  Demonstrate an understanding of recursive bina...  \n",
       "12  Demonstrate an understanding of recursive merg...  \n",
       "13  Demonstrate an understanding of recursive quic...  "
      ]
     },
     "execution_count": 2,
     "metadata": {},
     "output_type": "execute_result"
    }
   ],
   "source": [
    "data = pd.read_csv('data/sorting.csv')\n",
    "data.columns = ['concept', 'outcome']\n",
    "data"
   ]
  },
  {
   "cell_type": "code",
   "execution_count": 3,
   "metadata": {},
   "outputs": [],
   "source": [
    "concept_data = data['concept'].tolist()\n",
    "actual_concepts = []\n",
    "for string in concept_data:\n",
    "    words = string.split('->')\n",
    "    for word in words:\n",
    "        if word not in actual_concepts:\n",
    "            actual_concepts.append(word)\n",
    "\n",
    "\n",
    "outcome_data = data['outcome'].tolist()\n",
    "actual_outcomes = []\n",
    "for string in outcome_data:\n",
    "    words = string.split(';')\n",
    "    for s in words:\n",
    "        if s not in actual_outcomes:\n",
    "            actual_outcomes.append(s)\n",
    "\n",
    "actual_concepts = [' '.join(actual_concepts)] * 4\n",
    "actual_outcomes = [' '.join(actual_outcomes)] * 4"
   ]
  },
  {
   "cell_type": "code",
   "execution_count": 2,
   "metadata": {},
   "outputs": [
    {
     "name": "stderr",
     "output_type": "stream",
     "text": [
      "<frozen importlib._bootstrap>:241: DeprecationWarning: builtin type SwigPyPacked has no __module__ attribute\n",
      "<frozen importlib._bootstrap>:241: DeprecationWarning: builtin type SwigPyObject has no __module__ attribute\n",
      "<frozen importlib._bootstrap>:241: DeprecationWarning: builtin type swigvarlink has no __module__ attribute\n",
      "/home/zanehutchens/uncc/research/rag/env/lib/python3.10/site-packages/pydantic/_internal/_config.py:291: PydanticDeprecatedSince20: Support for class-based `config` is deprecated, use ConfigDict instead. Deprecated in Pydantic V2.0 to be removed in V3.0. See Pydantic V2 Migration Guide at https://errors.pydantic.dev/2.9/migration/\n",
      "  warnings.warn(DEPRECATION_MESSAGE, DeprecationWarning)\n"
     ]
    }
   ],
   "source": [
    "from src.extractor import relationExtractor\n",
    "extractor = relationExtractor(link, token, chapters[6:10], os.getenv('connection_string'), 3000, 100, 'DocumentEmbeddings', '2214_embeddings')"
   ]
  },
  {
   "cell_type": "code",
   "execution_count": 4,
   "metadata": {},
   "outputs": [
    {
     "data": {
      "text/plain": [
       "{'Internal Sorting': ['comparisons. of course, radix sort in the end does not provide a more efﬁcient sorting algorithm than comparison - based sorting. thus, empirical evidence suggests that comparison - based sorting is a good approach. 3 the proof that any comparison sort requires ω ( n log n ) comparisons in the worst case is structured as follows. first, comparison - based decisions can be mod - eled as the branches in a tree. this means that any sorting algorithm based on com - parisons between records can be viewed as a binary tree whose nodes correspond to the comparisons, and whose branches correspond to the possible outcomes. next, the',\n",
       "  'on the value of speciﬁc digits in the key value, so it is possible to take approaches to sorting that do not involve key comparisons. of course, radix sort in the end does not provide a more efﬁcient sorting algorithm than comparison - based sorting. thus, empirical evidence suggests that comparison - based sorting is a good approach. 3 the proof that any comparison sort requires ω ( n log n ) comparisons in the worst case is structured as follows. first, comparison - based decisions can be mod - eled as the branches in a tree. this means that any sorting algorithm based on com - parisons',\n",
       "  'recall that a sorting algorithm is said to be stable if the original ordering for duplicate keys is preserved. of the sorting algorithms insertion sort, bub - ble sort, selection sort, shellsort, mergesort, quicksort, heapsort, binsort, and radix sort, which of these are stable, and which are not? for each one, describe either why it is or is not stable. if a minor change to the implemen - tation would make it stable, describe the change. 7. 7 recall that a sorting algorithm is said to be stable if the original ordering for duplicate keys',\n",
       "  'sorting as an intrinsic part of an algorithm to solve some other problem, such as when computing the minimum - cost spanning tree ( see section 11. 5 ). because sorting is so important, naturally it has been studied intensively and many algorithms have been devised. some of these algorithms are straightforward adaptations of schemes we use in everyday life. others are totally alien to how hu - mans do things, having been invented to sort thousands or even millions of records stored on the computer. after years of study, there are still unsolved problems related to sorting. new algorithms are still being developed and reﬁned for special - purpose applications. while'],\n",
       " 'File Processing and External Sorting': ['explored further in chapter 10. 8. 5. 1 simple approaches to external sorting if your operating system supports virtual memory, the simplest “ external ” sort is to read the entire ﬁle into virtual memory and run an internal sorting method such as quicksort. this approach allows the virtual memory manager to use its normal buffer pool mechanism to control disk accesses. unfortunately, this might not al - ways be a viable option. one potential drawback is that the size of virtual memory is usually limited to something much smaller than the disk space available. thus, your input ﬁle might not ﬁt into virtual memory. limited virtual memory can be',\n",
       "  'primary goal of an external sorting algorithm is to minimize the number of times information must be read from or written to disk. a certain amount of additional cpu processing can proﬁtably be traded for reduced disk access. before discussing external sorting techniques, consider again the basic model for accessing information from disk. the ﬁle to be sorted is viewed by the program - mer as a sequential series of ﬁxed - size blocks. assume ( for simplicity ) that each block contains the same number of ﬁxed - size data records. depending on the ap - plication, a record might be only a few bytes — composed of little or nothing more',\n",
       "  '##le at the end of processing. 8. 5 external sorting we now consider the problem of sorting collections of records too large to ﬁt in main memory. because the records must reside in peripheral or external memory, such sorting methods are called external sorts. this is in contrast to the internal sorts discussed in chapter 7 which assume that the records to be sorted are stored in main memory. sorting large collections of records is central to many applications, such as processing payrolls and other large business databases. as a consequence, many external sorting algorithms have been devised. years ago, sorting algorithm designers sought to optimize the use of speciﬁc',\n",
       "  '##fﬁcient external sorting algorithms that take advantage of more sophisticated hardware conﬁgurations should consult the references in section 8. 6. when a collection of records is too large to ﬁt in main memory, the only prac - tical way to sort it is to read some records from disk, do some rearranging, then write them back to disk. this process is repeated until the ﬁle is sorted, with each record read perhaps many times. given the high cost of disk i / o, it should come as no surprise that the primary goal of an external sorting algorithm is to minimize the number of times information must'],\n",
       " 'Searching': ['isolation, binary search appears to be much more efﬁcient than sequential search. this is despite the fact that the constant factor for binary search is greater than that for sequential search, because the calculation for the next search position in binary search is more expensive than just incrementing the current position, as sequential search does. note however that the running time for sequential search will be roughly the same regardless of whether or not the array values are stored in order. in contrast, binary search requires that the array values be ordered from lowest to highest. de - pending on the context in which binary search is to be used, this requirement for',\n",
       "  'for sequential search in the average and worst cases quickly becomes much greater than the θ ( log n ) running time for binary search. taken in isolation, binary search appears to be much more efﬁcient than sequential search. this is despite the fact that the constant factor for binary search is greater than that for sequential search, because the calculation for the next search position in binary search is more expensive than just incrementing the current position, as sequential search does. note however that the running time for sequential search will be roughly the same regardless of whether or not the array values are stored in order. in contrast, binary search requires that',\n",
       "  'case. if the data are not sorted, then using binary search requires us to pay the cost of sorting the list in advance, which is only worthwhile if many ( at least o ( log n ) ) searches will be performed on the list. binary search also requires that the list ( even if sorted ) be implemented using an array or some other structure that supports random access to all elements with equal cost. finally, if we know all search requests in advance, we might prefer to sort the list by frequency and do linear search in extreme search distributions, as discussed in section 9. 2. 15. 3 finding the maximum value how can',\n",
       "  '5 implementation for binary search. if we expand the recurrence, we ﬁnd that we can do so only log n times before we reach the base case, and each expansion adds one to the cost. thus, the closed - form solution for the recurrence is t ( n ) = log n. function binary is designed to ﬁnd the ( single ) occurrence of k and return its position. a special value is returned if k does not appear in the array. this algorithm can be modiﬁed to implement variations such as returning the position of the ﬁrst occurrence of k in the array if multiple occurrences are allowed,'],\n",
       " 'Indexing': ['; else return rt ; } figure 10. 21 a java - like pseudocode sketch of the b + - tree insert algorithm. 362 chap. 10 indexing 33 23 48 18 101215 233031 19202122 47 3345 485052 figure 10. 22 simple deletion from a b + - tree. the record with key value 18 is removed from the tree of figure 10. 18. note that even though 18 is also a place - holder used to direct search in the parent node, that value need not be removed from internal nodes even if no record in the tree has key value 18. thus,',\n",
       "  'for applications requiring inser - tion, deletion, and key range searches. they are used to implement most modern ﬁle systems. b - trees address effectively all of the major problems encountered when implementing disk - based search trees : 1. b - trees are always height balanced, with all leaf nodes at the same level. 2. update and search operations affect only a few disk blocks. the fewer the number of disk blocks affected, the less disk i / o is required. 3. b - trees keep related records ( that is, records with similar key values ) on the same disk block, which helps to minimize disk i',\n",
       "  '##rrec ) ; else return false ; } figure 10. 25 java - like pseudocode for the b + - tree delete algorithm. 364 chap. 10 indexing neighboring sibling, if possible. if the sibling is also full, then these two nodes split into three. similarly, when a node underﬂows, it is combined with its two siblings, and the total reduced to two nodes. thus, the nodes are always at least two thirds full. 2 10. 5. 2 b - tree analysis the asymptotic cost of search, insertion, and deletion of records from b - trees, b +',\n",
       "  '- ﬁle access methods other than hashing. b - trees, or some variant of b - trees, are the standard ﬁle organization for applications requiring inser - tion, deletion, and key range searches. they are used to implement most modern ﬁle systems. b - trees address effectively all of the major problems encountered when implementing disk - based search trees : 1. b - trees are always height balanced, with all leaf nodes at the same level. 2. update and search operations affect only a few disk blocks. the fewer the number of disk blocks affected, the less disk i / o is required. 3.']}"
      ]
     },
     "execution_count": 4,
     "metadata": {},
     "output_type": "execute_result"
    }
   ],
   "source": [
    "extractor.identify_concepts(1)[1]"
   ]
  },
  {
   "cell_type": "code",
   "execution_count": 5,
   "metadata": {},
   "outputs": [],
   "source": [
    "concepts = extractor.identify_concepts(5)[0]\n",
    "outcomes = extractor.identify_outcomes(5)[0]\n",
    "kt = extractor.identify_key_terms(5)[0] \n",
    "dependencies = extractor.identify_dependencies(concepts)"
   ]
  },
  {
   "cell_type": "code",
   "execution_count": 6,
   "metadata": {},
   "outputs": [
    {
     "name": "stdout",
     "output_type": "stream",
     "text": [
      "./visualizations/kg.html\n"
     ]
    },
    {
     "data": {
      "text/html": [
       "\n",
       "        <iframe\n",
       "            width=\"100%\"\n",
       "            height=\"600px\"\n",
       "            src=\"./visualizations/kg.html\"\n",
       "            frameborder=\"0\"\n",
       "            allowfullscreen\n",
       "            \n",
       "        ></iframe>\n",
       "        "
      ],
      "text/plain": [
       "<IPython.lib.display.IFrame at 0x72522ffe3df0>"
      ]
     },
     "metadata": {},
     "output_type": "display_data"
    }
   ],
   "source": [
    "kg = extractor.build_knowledge_graph(dependencies, concepts, outcomes, kt)\n",
    "extractor.draw_knowledge_graph(kg)"
   ]
  },
  {
   "cell_type": "code",
   "execution_count": 3,
   "metadata": {},
   "outputs": [],
   "source": [
    "from langchain_core.documents import Document\n",
    "from sentence_transformers import CrossEncoder\n",
    "\n",
    "def rank_docs(queries_and_docs: list[tuple[str, str]], top_n: int) -> list[Document]:\n",
    "    '''\n",
    "    Ranks queries and documents using CrossEncoder\n",
    "\n",
    "    Args:\n",
    "        queries_and_docs (list[tuple[str, str]]): queries and documents\n",
    "        top_n (int): number of docs to return\n",
    "\n",
    "    Returns:\n",
    "        list: list of top_n documents\n",
    "    '''\n",
    "    model = CrossEncoder(model_name = 'cross-encoder/ms-marco-MiniLM-L-6-v2')\n",
    "    scores = model.predict([(t[0], t[1].page_content) for t in queries_and_docs])\n",
    "\n",
    "    return sorted(list(zip(queries_and_docs, scores)), key = lambda x: x[1], reverse = True)[:top_n]"
   ]
  },
  {
   "cell_type": "code",
   "execution_count": 7,
   "metadata": {},
   "outputs": [],
   "source": [
    "l = rank_docs([('give me a greeting!', Document('how are you today'))], 1)"
   ]
  },
  {
   "cell_type": "code",
   "execution_count": 9,
   "metadata": {},
   "outputs": [
    {
     "data": {
      "text/plain": [
       "(('give me a greeting!',\n",
       "  Document(metadata={}, page_content='how are you today')),\n",
       " -9.123926)"
      ]
     },
     "execution_count": 9,
     "metadata": {},
     "output_type": "execute_result"
    }
   ],
   "source": [
    "l[0]"
   ]
  },
  {
   "cell_type": "code",
   "execution_count": 13,
   "metadata": {},
   "outputs": [
    {
     "data": {
      "text/plain": [
       "Document(metadata={}, page_content='how are you today')"
      ]
     },
     "execution_count": 13,
     "metadata": {},
     "output_type": "execute_result"
    }
   ],
   "source": [
    "l[0][0][1]"
   ]
  },
  {
   "cell_type": "code",
   "execution_count": null,
   "metadata": {},
   "outputs": [],
   "source": []
  }
 ],
 "metadata": {
  "interpreter": {
   "hash": "56211c6593777bedeb9a19153ebc7701344247d055e998aec252a1f471490a08"
  },
  "kernelspec": {
   "display_name": "Python 3.10.12 ('env': venv)",
   "language": "python",
   "name": "python3"
  },
  "language_info": {
   "codemirror_mode": {
    "name": "ipython",
    "version": 3
   },
   "file_extension": ".py",
   "mimetype": "text/x-python",
   "name": "python",
   "nbconvert_exporter": "python",
   "pygments_lexer": "ipython3",
   "version": "3.10.12"
  }
 },
 "nbformat": 4,
 "nbformat_minor": 4
}
