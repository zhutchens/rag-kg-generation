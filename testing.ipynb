{
 "cells": [
  {
   "cell_type": "code",
   "execution_count": 1,
   "metadata": {},
   "outputs": [
    {
     "name": "stderr",
     "output_type": "stream",
     "text": [
      "<frozen importlib._bootstrap>:241: DeprecationWarning: builtin type SwigPyPacked has no __module__ attribute\n",
      "<frozen importlib._bootstrap>:241: DeprecationWarning: builtin type SwigPyObject has no __module__ attribute\n",
      "<frozen importlib._bootstrap>:241: DeprecationWarning: builtin type swigvarlink has no __module__ attribute\n",
      "/home/zanehutchens/uncc/research/rag/env/lib/python3.10/site-packages/pydantic/_internal/_config.py:291: PydanticDeprecatedSince20: Support for class-based `config` is deprecated, use ConfigDict instead. Deprecated in Pydantic V2.0 to be removed in V3.0. See Pydantic V2 Migration Guide at https://errors.pydantic.dev/2.9/migration/\n",
      "  warnings.warn(DEPRECATION_MESSAGE, DeprecationWarning)\n"
     ]
    }
   ],
   "source": [
    "# import ragas.metrics as m\n",
    "import os\n",
    "from dotenv import load_dotenv\n",
    "import pandas as pd\n",
    "from src.extractor import relationExtractor\n",
    "# from langchain_openai import ChatOpenAI, OpenAIEmbeddings\n",
    "# from ragas.llms import LangchainLLMWrapper\n",
    "# from ragas.embeddings import LangchainEmbeddingsWrapper\n",
    "\n",
    "load_dotenv()\n",
    "link = os.getenv('dsa_2214')\n",
    "token = os.getenv('OPENAI_API_KEY')\n",
    "os.environ['OPENAI_API_KEY'] = token\n",
    "\n",
    "chapters = [\n",
    "    'Data Structures and Algorithms',\n",
    "    'Mathematical Preliminaries',\n",
    "    'Algorithm Analysis',\n",
    "    'Lists, Stacks, and Queues',\n",
    "    'Binary Trees',\n",
    "    'Non-Binary Trees',\n",
    "    'Internal Sorting',\n",
    "    'File Processing and External Sorting',\n",
    "    'Searching',\n",
    "    'Indexing',\n",
    "    'Graphs',\n",
    "    'Lists and Arrays Revisited',\n",
    "    'Advanced Tree Structures',\n",
    "    'Analysis Techniques',\n",
    "    'Lower Bounds',\n",
    "    'Patterns of Algorithms',\n",
    "    'Limits to Computation',\n",
    "]"
   ]
  },
  {
   "cell_type": "code",
   "execution_count": 2,
   "metadata": {},
   "outputs": [
    {
     "data": {
      "text/html": [
       "<div>\n",
       "<style scoped>\n",
       "    .dataframe tbody tr th:only-of-type {\n",
       "        vertical-align: middle;\n",
       "    }\n",
       "\n",
       "    .dataframe tbody tr th {\n",
       "        vertical-align: top;\n",
       "    }\n",
       "\n",
       "    .dataframe thead th {\n",
       "        text-align: right;\n",
       "    }\n",
       "</style>\n",
       "<table border=\"1\" class=\"dataframe\">\n",
       "  <thead>\n",
       "    <tr style=\"text-align: right;\">\n",
       "      <th></th>\n",
       "      <th>concept</th>\n",
       "      <th>outcome</th>\n",
       "    </tr>\n",
       "  </thead>\n",
       "  <tbody>\n",
       "    <tr>\n",
       "      <th>0</th>\n",
       "      <td>Algorithms-&gt;Non-recursive Algorithms-&gt;Search-&gt;...</td>\n",
       "      <td>Demonstrate an understanding of linear search;...</td>\n",
       "    </tr>\n",
       "    <tr>\n",
       "      <th>1</th>\n",
       "      <td>Algorithms-&gt;Non-recursive Algorithms-&gt;Search-&gt;...</td>\n",
       "      <td>Demonstrate an understanding of binary search;...</td>\n",
       "    </tr>\n",
       "    <tr>\n",
       "      <th>2</th>\n",
       "      <td>Algorithms-&gt;Non-recursive Algorithms-&gt;Sort</td>\n",
       "      <td>Demonstrate an understanding of sorting;</td>\n",
       "    </tr>\n",
       "    <tr>\n",
       "      <th>3</th>\n",
       "      <td>Algorithms-&gt;Non-recursive Algorithms-&gt;Sort-&gt;In...</td>\n",
       "      <td>Demonstrate an understanding of insertion sort...</td>\n",
       "    </tr>\n",
       "    <tr>\n",
       "      <th>4</th>\n",
       "      <td>Algorithms-&gt;Non-recursive Algorithms-&gt;Sort-&gt;Se...</td>\n",
       "      <td>Demonstrate an understanding of selection sort...</td>\n",
       "    </tr>\n",
       "    <tr>\n",
       "      <th>5</th>\n",
       "      <td>Algorithms-&gt;Non-recursive Algorithms-&gt;Sort-&gt;Bu...</td>\n",
       "      <td>Demonstrate an understanding of bubble sort;An...</td>\n",
       "    </tr>\n",
       "    <tr>\n",
       "      <th>6</th>\n",
       "      <td>Algorithms-&gt;Recursive Algorithms-&gt;Recursive Al...</td>\n",
       "      <td>Demonstrate an understanding of recursion</td>\n",
       "    </tr>\n",
       "    <tr>\n",
       "      <th>7</th>\n",
       "      <td>Algorithms-&gt;Recursive Algorithms-&gt;Recursive Bi...</td>\n",
       "      <td>Demonstrate an understanding of recursive bina...</td>\n",
       "    </tr>\n",
       "    <tr>\n",
       "      <th>8</th>\n",
       "      <td>Algorithms-&gt;Recursive Algorithms-&gt;Recursive So...</td>\n",
       "      <td>Demonstrate an understanding of recursive merg...</td>\n",
       "    </tr>\n",
       "    <tr>\n",
       "      <th>9</th>\n",
       "      <td>Algorithms-&gt;Recursive Algorithms-&gt;Recursive So...</td>\n",
       "      <td>Demonstrate an understanding of recursive quic...</td>\n",
       "    </tr>\n",
       "  </tbody>\n",
       "</table>\n",
       "</div>"
      ],
      "text/plain": [
       "                                             concept  \\\n",
       "0  Algorithms->Non-recursive Algorithms->Search->...   \n",
       "1  Algorithms->Non-recursive Algorithms->Search->...   \n",
       "2         Algorithms->Non-recursive Algorithms->Sort   \n",
       "3  Algorithms->Non-recursive Algorithms->Sort->In...   \n",
       "4  Algorithms->Non-recursive Algorithms->Sort->Se...   \n",
       "5  Algorithms->Non-recursive Algorithms->Sort->Bu...   \n",
       "6  Algorithms->Recursive Algorithms->Recursive Al...   \n",
       "7  Algorithms->Recursive Algorithms->Recursive Bi...   \n",
       "8  Algorithms->Recursive Algorithms->Recursive So...   \n",
       "9  Algorithms->Recursive Algorithms->Recursive So...   \n",
       "\n",
       "                                             outcome  \n",
       "0  Demonstrate an understanding of linear search;...  \n",
       "1  Demonstrate an understanding of binary search;...  \n",
       "2           Demonstrate an understanding of sorting;  \n",
       "3  Demonstrate an understanding of insertion sort...  \n",
       "4  Demonstrate an understanding of selection sort...  \n",
       "5  Demonstrate an understanding of bubble sort;An...  \n",
       "6          Demonstrate an understanding of recursion  \n",
       "7  Demonstrate an understanding of recursive bina...  \n",
       "8  Demonstrate an understanding of recursive merg...  \n",
       "9  Demonstrate an understanding of recursive quic...  "
      ]
     },
     "execution_count": 2,
     "metadata": {},
     "output_type": "execute_result"
    }
   ],
   "source": [
    "# data = pd.read_csv('data/sorting.csv')\n",
    "# data.columns = ['concept', 'outcome']\n",
    "data = pd.read_csv('data/sorting.csv')\n",
    "data"
   ]
  },
  {
   "cell_type": "code",
   "execution_count": 3,
   "metadata": {},
   "outputs": [],
   "source": [
    "concept_data = data['concept'].tolist()\n",
    "actual_concepts = []\n",
    "for string in concept_data:\n",
    "    words = string.split('->')\n",
    "    for word in words:\n",
    "        if word not in actual_concepts:\n",
    "            actual_concepts.append(word)\n",
    "\n",
    "\n",
    "outcome_data = data['outcome'].tolist()\n",
    "actual_outcomes = []\n",
    "for string in outcome_data:\n",
    "    words = string.split(';')\n",
    "    for s in words:\n",
    "        if s not in actual_outcomes:\n",
    "            actual_outcomes.append(s)\n",
    "\n",
    "actual_concepts = [' '.join(actual_concepts)] * 1\n",
    "# actual_outcomes = [' '.join(actual_outcomes)] * 4"
   ]
  },
  {
   "cell_type": "code",
   "execution_count": 4,
   "metadata": {},
   "outputs": [],
   "source": [
    "extractor = relationExtractor(link, \n",
    "                            token, \n",
    "                            [chapters[6]], \n",
    "                            os.getenv('connection_string'), \n",
    "                            500, \n",
    "                            100, \n",
    "                            'DocumentEmbeddings', \n",
    "                            '2214_embeddings',\n",
    "                            reset = True,\n",
    "                            openai_model = 'gpt-4o',\n",
    "                            st_model = 'all-MiniLM-L12-v2',\n",
    "                            temp = 0)"
   ]
  },
  {
   "cell_type": "code",
   "execution_count": 5,
   "metadata": {},
   "outputs": [
    {
     "name": "stdout",
     "output_type": "stream",
     "text": [
      "Inside semantic similarity, st_model is all-MiniLM-L12-v2\n"
     ]
    }
   ],
   "source": [
    "from metrics.SemanticSimilarity import SemanticSimilarity\n",
    "from deepeval.metrics import AnswerRelevancyMetric, ContextualPrecisionMetric, ContextualRecallMetric, FaithfulnessMetric, ContextualRelevancyMetric\n",
    "\n",
    "metrics = [AnswerRelevancyMetric(), FaithfulnessMetric(), ContextualPrecisionMetric(), ContextualRecallMetric(), ContextualRelevancyMetric(), SemanticSimilarity(st_model = extractor.embedding_model)]"
   ]
  },
  {
   "cell_type": "code",
   "execution_count": 6,
   "metadata": {},
   "outputs": [],
   "source": [
    "concepts = extractor.identify_key_terms(10)[0]"
   ]
  },
  {
   "cell_type": "code",
   "execution_count": null,
   "metadata": {},
   "outputs": [],
   "source": [
    "result = extractor.evaluate('terms', 5, actual_concepts, metrics)\n",
    "print('-' * 20)\n",
    "print(f'OPENAI MODEL: {extractor.openai_model}')\n",
    "print(f'TEMPERATURE: {extractor.llm.temperature}')\n",
    "print(f'SENTENCE TRANSFORMER: {extractor.embedding_model}')\n",
    "print(f'TEXTBOOK: dsa_2214')\n",
    "print(f'CHAPTERS TESTED: {extractor.chapters}')\n",
    "print('-' * 20)\n",
    "for i in result:\n",
    "    print(f\"METRIC: {i['name']} ----> SCORE: {i['score']}\")\n",
    "    print()\n",
    "    print(f\"REASON: {i['reason']}\")\n",
    "    print()\n",
    "    print(f\"QUERY: {i['input']}\")\n",
    "    print()\n",
    "    print(f\"OUTPUT: {i['output']}\")\n",
    "    print('-' * 20)"
   ]
  },
  {
   "cell_type": "code",
   "execution_count": null,
   "metadata": {},
   "outputs": [],
   "source": [
    "full_extractor = relationExtractor(link, \n",
    "                    token, \n",
    "                    chapters, \n",
    "                    os.getenv('connection_string'), \n",
    "                    500, \n",
    "                    100, \n",
    "                    'DocumentEmbeddings', \n",
    "                    '2214_embeddings',\n",
    "                    reset = True,\n",
    "                    openai_model = 'gpt-4o',\n",
    "                    st_model = 'all-MiniLM-L12-v2',\n",
    "                    temp = 0.2)"
   ]
  },
  {
   "cell_type": "code",
   "execution_count": null,
   "metadata": {},
   "outputs": [],
   "source": [
    "full_extractor.identify_concepts(5)\n",
    "full_extractor.identify_key_terms(5)\n",
    "full_extractor.identify_outcomes(5)"
   ]
  },
  {
   "cell_type": "code",
   "execution_count": null,
   "metadata": {},
   "outputs": [],
   "source": [
    "full_extractor.identify_dependencies(full_extractor.key_terms) "
   ]
  },
  {
   "cell_type": "code",
   "execution_count": null,
   "metadata": {},
   "outputs": [],
   "source": [
    "full_extractor.build_knowledge_graph()"
   ]
  },
  {
   "cell_type": "code",
   "execution_count": null,
   "metadata": {},
   "outputs": [],
   "source": [
    "full_extractor.draw_knowledge_graph()"
   ]
  },
  {
   "cell_type": "code",
   "execution_count": null,
   "metadata": {},
   "outputs": [],
   "source": [
    "full_extractor.build_terminology()"
   ]
  },
  {
   "cell_type": "code",
   "execution_count": null,
   "metadata": {},
   "outputs": [],
   "source": [
    "full_extractor.draw_hierarchy()"
   ]
  },
  {
   "cell_type": "code",
   "execution_count": null,
   "metadata": {},
   "outputs": [],
   "source": [
    "full_extractor.terminology"
   ]
  },
  {
   "cell_type": "code",
   "execution_count": null,
   "metadata": {},
   "outputs": [],
   "source": []
  },
  {
   "cell_type": "code",
   "execution_count": null,
   "metadata": {},
   "outputs": [],
   "source": []
  }
 ],
 "metadata": {
  "interpreter": {
   "hash": "56211c6593777bedeb9a19153ebc7701344247d055e998aec252a1f471490a08"
  },
  "kernelspec": {
   "display_name": "Python 3.10.12 ('env': venv)",
   "language": "python",
   "name": "python3"
  },
  "language_info": {
   "codemirror_mode": {
    "name": "ipython",
    "version": 3
   },
   "file_extension": ".py",
   "mimetype": "text/x-python",
   "name": "python",
   "nbconvert_exporter": "python",
   "pygments_lexer": "ipython3",
   "version": "3.10.12"
  }
 },
 "nbformat": 4,
 "nbformat_minor": 4
}
